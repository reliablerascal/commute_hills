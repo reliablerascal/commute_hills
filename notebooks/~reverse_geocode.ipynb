{
 "cells": [
  {
   "cell_type": "markdown",
   "id": "9459a93e",
   "metadata": {},
   "source": [
    "# Reverse Geocode to Get Street Addresses"
   ]
  },
  {
   "cell_type": "code",
   "execution_count": 1,
   "id": "ab6dab2c",
   "metadata": {},
   "outputs": [],
   "source": [
    "# # %load_ext autotime\n",
    "# import geopandas as gpd\n",
    "# import geopy\n",
    "# from geopy.geocoders import Nominatim\n",
    "# from geopy.extra.rate_limiter import RateLimiter\n",
    "# import matplotlib.pyplot as plt\n",
    "# import plotly_express as px\n",
    "# import tqdm\n",
    "# from tqdm._tqdm_notebook import tqdm_notebook"
   ]
  },
  {
   "cell_type": "code",
   "execution_count": null,
   "id": "0d9c2fe4",
   "metadata": {},
   "outputs": [],
   "source": []
  }
 ],
 "metadata": {
  "kernelspec": {
   "display_name": "Python 3 (ipykernel)",
   "language": "python",
   "name": "python3"
  },
  "language_info": {
   "codemirror_mode": {
    "name": "ipython",
    "version": 3
   },
   "file_extension": ".py",
   "mimetype": "text/x-python",
   "name": "python",
   "nbconvert_exporter": "python",
   "pygments_lexer": "ipython3",
   "version": "3.10.6"
  }
 },
 "nbformat": 4,
 "nbformat_minor": 5
}
